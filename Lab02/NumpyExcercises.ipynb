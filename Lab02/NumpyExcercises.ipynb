{
  "cells": [
    {
      "cell_type": "markdown",
      "metadata": {
        "colab_type": "text",
        "id": "view-in-github"
      },
      "source": [
        "<a href=\"https://colab.research.google.com/github/Tensor-Reloaded/Neural-Networks-Template-2024/blob/main/Lab02/NumpyExcercises.ipynb\" target=\"_parent\"><img src=\"https://colab.research.google.com/assets/colab-badge.svg\" alt=\"Open In Colab\"/></a>"
      ]
    },
    {
      "cell_type": "markdown",
      "metadata": {
        "id": "1osmmLv1t8Vc"
      },
      "source": [
        "# Excercises with numpy"
      ]
    },
    {
      "cell_type": "code",
      "execution_count": 5,
      "metadata": {
        "colab": {
          "base_uri": "https://localhost:8080/"
        },
        "id": "R-psdy852TWD",
        "outputId": "81c31bfd-d099-4422-810a-699612394d98"
      },
      "outputs": [
        {
          "name": "stdout",
          "output_type": "stream",
          "text": [
            "Requirement already satisfied: timed-decorator in c:\\users\\vlad\\appdata\\local\\programs\\python\\python313\\lib\\site-packages (1.5.2)\n",
            "Note: you may need to restart the kernel to use updated packages.\n",
            "Collecting scikit-learn\n",
            "  Downloading scikit_learn-1.5.2-cp313-cp313-win_amd64.whl.metadata (13 kB)\n",
            "Requirement already satisfied: numpy>=1.19.5 in c:\\users\\vlad\\appdata\\local\\programs\\python\\python313\\lib\\site-packages (from scikit-learn) (2.1.2)\n",
            "Collecting scipy>=1.6.0 (from scikit-learn)\n",
            "  Downloading scipy-1.14.1-cp313-cp313-win_amd64.whl.metadata (60 kB)\n",
            "Collecting joblib>=1.2.0 (from scikit-learn)\n",
            "  Downloading joblib-1.4.2-py3-none-any.whl.metadata (5.4 kB)\n",
            "Collecting threadpoolctl>=3.1.0 (from scikit-learn)\n",
            "  Downloading threadpoolctl-3.5.0-py3-none-any.whl.metadata (13 kB)\n",
            "Downloading scikit_learn-1.5.2-cp313-cp313-win_amd64.whl (11.0 MB)\n",
            "   ---------------------------------------- 0.0/11.0 MB ? eta -:--:--\n",
            "   - -------------------------------------- 0.5/11.0 MB 2.7 MB/s eta 0:00:04\n",
            "   -- ------------------------------------- 0.8/11.0 MB 1.7 MB/s eta 0:00:06\n",
            "   -- ------------------------------------- 0.8/11.0 MB 1.7 MB/s eta 0:00:06\n",
            "   --- ------------------------------------ 1.0/11.0 MB 1.1 MB/s eta 0:00:09\n",
            "   ----- ---------------------------------- 1.6/11.0 MB 1.4 MB/s eta 0:00:07\n",
            "   ------- -------------------------------- 2.1/11.0 MB 1.6 MB/s eta 0:00:06\n",
            "   --------- ------------------------------ 2.6/11.0 MB 1.8 MB/s eta 0:00:05\n",
            "   ------------ --------------------------- 3.4/11.0 MB 2.0 MB/s eta 0:00:04\n",
            "   -------------- ------------------------- 3.9/11.0 MB 2.1 MB/s eta 0:00:04\n",
            "   ----------------- ---------------------- 4.7/11.0 MB 2.3 MB/s eta 0:00:03\n",
            "   ------------------- -------------------- 5.2/11.0 MB 2.3 MB/s eta 0:00:03\n",
            "   ---------------------- ----------------- 6.0/11.0 MB 2.4 MB/s eta 0:00:03\n",
            "   ----------------------- ---------------- 6.6/11.0 MB 2.5 MB/s eta 0:00:02\n",
            "   -------------------------- ------------- 7.3/11.0 MB 2.5 MB/s eta 0:00:02\n",
            "   ---------------------------- ----------- 7.9/11.0 MB 2.6 MB/s eta 0:00:02\n",
            "   ------------------------------- -------- 8.7/11.0 MB 2.6 MB/s eta 0:00:01\n",
            "   ---------------------------------- ----- 9.4/11.0 MB 2.7 MB/s eta 0:00:01\n",
            "   ---------------------------------- ----- 9.4/11.0 MB 2.7 MB/s eta 0:00:01\n",
            "   ---------------------------------------- 11.0/11.0 MB 2.8 MB/s eta 0:00:00\n",
            "Downloading joblib-1.4.2-py3-none-any.whl (301 kB)\n",
            "Downloading scipy-1.14.1-cp313-cp313-win_amd64.whl (44.5 MB)\n",
            "   ---------------------------------------- 0.0/44.5 MB ? eta -:--:--\n",
            "    --------------------------------------- 1.0/44.5 MB 6.2 MB/s eta 0:00:08\n",
            "   -- ------------------------------------- 2.6/44.5 MB 6.7 MB/s eta 0:00:07\n",
            "   --- ------------------------------------ 3.9/44.5 MB 6.3 MB/s eta 0:00:07\n",
            "   ---- ----------------------------------- 5.2/44.5 MB 6.3 MB/s eta 0:00:07\n",
            "   ----- ---------------------------------- 6.0/44.5 MB 5.9 MB/s eta 0:00:07\n",
            "   ------ --------------------------------- 7.1/44.5 MB 5.9 MB/s eta 0:00:07\n",
            "   ------- -------------------------------- 8.7/44.5 MB 5.9 MB/s eta 0:00:07\n",
            "   --------- ------------------------------ 10.2/44.5 MB 6.0 MB/s eta 0:00:06\n",
            "   ---------- ----------------------------- 11.5/44.5 MB 6.1 MB/s eta 0:00:06\n",
            "   ----------- ---------------------------- 12.8/44.5 MB 6.1 MB/s eta 0:00:06\n",
            "   ------------ --------------------------- 13.9/44.5 MB 6.0 MB/s eta 0:00:06\n",
            "   ------------- -------------------------- 15.2/44.5 MB 6.0 MB/s eta 0:00:05\n",
            "   -------------- ------------------------- 16.0/44.5 MB 5.8 MB/s eta 0:00:05\n",
            "   --------------- ------------------------ 17.3/44.5 MB 5.9 MB/s eta 0:00:05\n",
            "   ---------------- ----------------------- 18.6/44.5 MB 5.9 MB/s eta 0:00:05\n",
            "   ----------------- ---------------------- 19.7/44.5 MB 5.8 MB/s eta 0:00:05\n",
            "   ------------------ --------------------- 21.0/44.5 MB 5.8 MB/s eta 0:00:05\n",
            "   ------------------- -------------------- 21.5/44.5 MB 5.7 MB/s eta 0:00:05\n",
            "   -------------------- ------------------- 22.5/44.5 MB 5.6 MB/s eta 0:00:04\n",
            "   --------------------- ------------------ 23.9/44.5 MB 5.6 MB/s eta 0:00:04\n",
            "   ---------------------- ----------------- 25.2/44.5 MB 5.7 MB/s eta 0:00:04\n",
            "   ----------------------- ---------------- 26.5/44.5 MB 5.7 MB/s eta 0:00:04\n",
            "   ------------------------ --------------- 27.5/44.5 MB 5.6 MB/s eta 0:00:04\n",
            "   ------------------------- -------------- 28.8/44.5 MB 5.7 MB/s eta 0:00:03\n",
            "   -------------------------- ------------- 29.9/44.5 MB 5.7 MB/s eta 0:00:03\n",
            "   --------------------------- ------------ 30.9/44.5 MB 5.7 MB/s eta 0:00:03\n",
            "   ---------------------------- ----------- 32.0/44.5 MB 5.6 MB/s eta 0:00:03\n",
            "   ----------------------------- ---------- 33.0/44.5 MB 5.6 MB/s eta 0:00:03\n",
            "   ------------------------------ --------- 34.3/44.5 MB 5.6 MB/s eta 0:00:02\n",
            "   -------------------------------- ------- 35.7/44.5 MB 5.6 MB/s eta 0:00:02\n",
            "   --------------------------------- ------ 36.7/44.5 MB 5.6 MB/s eta 0:00:02\n",
            "   ---------------------------------- ----- 38.3/44.5 MB 5.6 MB/s eta 0:00:02\n",
            "   ----------------------------------- ---- 39.6/44.5 MB 5.7 MB/s eta 0:00:01\n",
            "   ------------------------------------ --- 40.9/44.5 MB 5.7 MB/s eta 0:00:01\n",
            "   ------------------------------------- -- 41.9/44.5 MB 5.7 MB/s eta 0:00:01\n",
            "   -------------------------------------- - 43.3/44.5 MB 5.7 MB/s eta 0:00:01\n",
            "   ---------------------------------------  44.3/44.5 MB 5.7 MB/s eta 0:00:01\n",
            "   ---------------------------------------- 44.5/44.5 MB 5.6 MB/s eta 0:00:00\n",
            "Downloading threadpoolctl-3.5.0-py3-none-any.whl (18 kB)\n",
            "Installing collected packages: threadpoolctl, scipy, joblib, scikit-learn\n",
            "Successfully installed joblib-1.4.2 scikit-learn-1.5.2 scipy-1.14.1 threadpoolctl-3.5.0\n",
            "Note: you may need to restart the kernel to use updated packages.\n"
          ]
        }
      ],
      "source": [
        "%pip install timed-decorator\n",
        "%pip install scikit-learn"
      ]
    },
    {
      "cell_type": "code",
      "execution_count": 6,
      "metadata": {
        "id": "Pv2iHv15vu67"
      },
      "outputs": [],
      "source": [
        "import numpy as np\n",
        "from sklearn.metrics import confusion_matrix, accuracy_score, f1_score\n",
        "from timed_decorator.simple_timed import timed\n",
        "from typing import Tuple"
      ]
    },
    {
      "cell_type": "code",
      "execution_count": 7,
      "metadata": {
        "id": "7OOZ-UGxt77b"
      },
      "outputs": [],
      "source": [
        "predicted = np.array([\n",
        "    1,1,1,0,1,0,1,1,0,0\n",
        "])\n",
        "actual = np.array([\n",
        "    1,1,1,1,0,0,1,0,0,0\n",
        "])\n",
        "\n",
        "big_size = 500000\n",
        "big_actual = np.repeat(actual, big_size)\n",
        "big_predicted = np.repeat(predicted, big_size)\n"
      ]
    },
    {
      "cell_type": "markdown",
      "metadata": {
        "id": "WR9T8rfg94YQ"
      },
      "source": [
        "If you are not familiar with the confusion matrix for binary classification, check https://www.geeksforgeeks.org/confusion-matrix-machine-learning/#what-is-a-confusion-matrix"
      ]
    },
    {
      "cell_type": "markdown",
      "metadata": {
        "id": "DlvLoCK835ta"
      },
      "source": [
        "### Exercise 1\n",
        "\n",
        "Implement a method to retrieve the confusion matrix values using numpy operations. Aim to make your method faster than the sklearn implementation."
      ]
    },
    {
      "cell_type": "code",
      "execution_count": 13,
      "metadata": {
        "id": "KXCV8jvPydpC"
      },
      "outputs": [
        {
          "name": "stdout",
          "output_type": "stream",
          "text": [
            "tp_fp_fn_tn_numpy(ndarray(10,), ndarray(10,)) -> total time: 0.000173100s\n",
            "4 2 1 3\n",
            "tp_fp_fn_tn_sklearn(ndarray(10,), ndarray(10,)) -> total time: 0.000520700s\n",
            "tp_fp_fn_tn_numpy(ndarray(10,), ndarray(10,)) -> total time: 0.000073800s\n"
          ]
        }
      ],
      "source": [
        "@timed(use_seconds=True, show_args=True)\n",
        "def tp_fp_fn_tn_sklearn(gt: np.ndarray, pred: np.ndarray) -> Tuple[int, ...]:\n",
        "    tn, fp, fn, tp = confusion_matrix(gt, pred).ravel()\n",
        "    return tp, fp, fn, tn\n",
        "\n",
        "\n",
        "@timed(use_seconds=True, show_args=True)\n",
        "def tp_fp_fn_tn_numpy(gt: np.ndarray, pred: np.ndarray) -> Tuple[int, ...]:\n",
        "    tp = np.sum((gt == 1) & (pred == 1))\n",
        "    tn = np.sum((gt == 0) & (pred == 0))\n",
        "    fp = np.sum((gt == 0) & (pred == 1))\n",
        "    fn = np.sum((gt == 1) & (pred == 0))\n",
        "    \n",
        "    return tp, fp, fn, tn\n",
        "\n",
        "\n",
        "tp, fp, fn, tn = tp_fp_fn_tn_numpy(actual, predicted)\n",
        "print(tp, fp, fn, tn)\n",
        "\n",
        "assert tp_fp_fn_tn_sklearn(actual, predicted) == tp_fp_fn_tn_numpy(actual, predicted)"
      ]
    },
    {
      "cell_type": "code",
      "execution_count": 14,
      "metadata": {
        "id": "qlxFQ_1Pywjb"
      },
      "outputs": [
        {
          "name": "stdout",
          "output_type": "stream",
          "text": [
            "tp_fp_fn_tn_sklearn(ndarray(5000000,), ndarray(5000000,)) -> total time: 0.172739300s\n",
            "tp_fp_fn_tn_numpy(ndarray(5000000,), ndarray(5000000,)) -> total time: 0.030775700s\n"
          ]
        }
      ],
      "source": [
        "rez_1 = tp_fp_fn_tn_sklearn(big_actual, big_predicted)\n",
        "rez_2 = tp_fp_fn_tn_numpy(big_actual, big_predicted)\n",
        "\n",
        "assert rez_1 == rez_2"
      ]
    },
    {
      "cell_type": "markdown",
      "metadata": {
        "id": "LuJUVV1c_Iu8"
      },
      "source": [
        "```\n",
        "tp_fp_fn_tn_sklearn(ndarray(5000000,), ndarray(5000000,)) -> total time: 1.362611559s\n",
        "tp_fp_fn_tn_numpy(ndarray(5000000,), ndarray(5000000,)) -> total time: 0.061580794s\n",
        "```"
      ]
    },
    {
      "cell_type": "markdown",
      "metadata": {
        "id": "9VtOouGY-dGU"
      },
      "source": [
        "### Exercise 2\n",
        "\n",
        "Implement a method to retrieve the calculate the accuracy using numpy operations."
      ]
    },
    {
      "cell_type": "markdown",
      "metadata": {
        "id": "FrOvVlQi6Vqx"
      },
      "source": [
        "Accuracy = $\\frac{TP + TN}{TP + FP + FN + TN}$"
      ]
    },
    {
      "cell_type": "code",
      "execution_count": 16,
      "metadata": {
        "id": "FvGCS4wo149M"
      },
      "outputs": [
        {
          "name": "stdout",
          "output_type": "stream",
          "text": [
            "accuracy_sklearn(ndarray(10,), ndarray(10,)) -> total time: 0.000410100s\n",
            "accuracy_numpy(ndarray(10,), ndarray(10,)) -> total time: 0.000052300s\n"
          ]
        }
      ],
      "source": [
        "@timed(use_seconds=True, show_args=True)\n",
        "def accuracy_sklearn(gt: np.ndarray, pred: np.ndarray) -> float:\n",
        "    return accuracy_score(gt, pred)\n",
        "\n",
        "\n",
        "@timed(use_seconds=True, show_args=True)\n",
        "def accuracy_numpy(gt: np.ndarray, pred: np.ndarray) -> float:\n",
        "    correct_predictions = np.sum(gt == pred)\n",
        "    return correct_predictions / gt.size\n",
        "\n",
        "assert accuracy_sklearn(actual, predicted) == accuracy_numpy(actual, predicted)"
      ]
    },
    {
      "cell_type": "code",
      "execution_count": null,
      "metadata": {
        "id": "yYwMTAdX13RU"
      },
      "outputs": [],
      "source": [
        "rez_1 = accuracy_sklearn(big_actual, big_predicted)\n",
        "rez_2 = accuracy_numpy(big_actual, big_predicted)\n",
        "\n",
        "assert np.isclose(rez_1, rez_2)"
      ]
    },
    {
      "cell_type": "markdown",
      "metadata": {
        "id": "Y4vOxFRX_DbN"
      },
      "source": [
        "```\n",
        "accuracy_sklearn(ndarray(5000000,), ndarray(5000000,)) -> total time: 0.737005607s\n",
        "accuracy_numpy(ndarray(5000000,), ndarray(5000000,)) -> total time: 0.045633154s\n",
        "```"
      ]
    },
    {
      "cell_type": "markdown",
      "metadata": {
        "id": "9a4kiUip-iaB"
      },
      "source": [
        "## Excercise 3\n",
        "\n",
        "Implement a method to calculate the F1-Score using numpy operations. Be careful at corner cases (divide by 0)."
      ]
    },
    {
      "cell_type": "markdown",
      "metadata": {
        "id": "xlVLJUKe6nLf"
      },
      "source": [
        "Precision = $\\frac{TP}{TP + FP}$\n",
        "\n",
        "Recall = $\\frac{TP}{TP + FN}$\n",
        "\n",
        "F1-Score = $2 \\cdot \\frac{Precision \\cdot Recall}{Precision + Recall}$"
      ]
    },
    {
      "cell_type": "code",
      "execution_count": 21,
      "metadata": {
        "id": "bf26jyp65jWp"
      },
      "outputs": [
        {
          "name": "stdout",
          "output_type": "stream",
          "text": [
            "f1_score_sklearn(ndarray(10,), ndarray(10,)) -> total time: 0.000916400s\n",
            "0.7272727272727273\n",
            "f1_score_numpy(ndarray(10,), ndarray(10,)) -> total time: 0.000075400s\n",
            "0.7272727272727272\n"
          ]
        }
      ],
      "source": [
        "@timed(use_seconds=True, show_args=True)\n",
        "def f1_score_sklearn(gt: np.ndarray, pred: np.ndarray) -> float:\n",
        "    return f1_score(gt, pred)\n",
        "\n",
        "\n",
        "@timed(use_seconds=True, show_args=True)\n",
        "def f1_score_numpy(gt: np.ndarray, pred: np.ndarray) -> float:\n",
        "    tp = np.sum((gt == 1) & (pred == 1))\n",
        "    fp = np.sum((gt == 0) & (pred == 1))\n",
        "    fn = np.sum((gt == 1) & (pred == 0))\n",
        "    precision = tp / (tp + fp) if (tp + fp) > 0 else 0.0\n",
        "    recall = tp / (tp + fn) if (tp + fn) > 0 else 0.0\n",
        "    if (precision + recall) == 0:\n",
        "        return 0.0\n",
        "    return 2 * (precision * recall) / (precision + recall)\n",
        "\n",
        "print(f1_score_sklearn(actual, predicted))\n",
        "print(f1_score_numpy(actual, predicted))\n",
        "\n",
        "\n",
        "# assert f1_score_sklearn(actual, predicted) == f1_score_numpy(actual, predicted)"
      ]
    },
    {
      "cell_type": "code",
      "execution_count": 22,
      "metadata": {
        "id": "a2LsucKI5rB4"
      },
      "outputs": [
        {
          "name": "stdout",
          "output_type": "stream",
          "text": [
            "f1_score_sklearn(ndarray(5000000,), ndarray(5000000,)) -> total time: 0.389090800s\n",
            "f1_score_numpy(ndarray(5000000,), ndarray(5000000,)) -> total time: 0.024554000s\n"
          ]
        }
      ],
      "source": [
        "rez_1 = f1_score_sklearn(big_actual, big_predicted)\n",
        "rez_2 = f1_score_numpy(big_actual, big_predicted)\n",
        "\n",
        "assert np.isclose(rez_1, rez_2)"
      ]
    },
    {
      "cell_type": "markdown",
      "metadata": {
        "id": "uVLThSs4-9GP"
      },
      "source": [
        "```\n",
        "f1_score_sklearn(ndarray(5000000,), ndarray(5000000,)) -> total time: 5.300984584s\n",
        "f1_score_numpy(ndarray(5000000,), ndarray(5000000,)) -> total time: 0.042523483s\n",
        "```"
      ]
    }
  ],
  "metadata": {
    "colab": {
      "include_colab_link": true,
      "name": "RN-2024-Lab01",
      "provenance": []
    },
    "kaggle": {
      "accelerator": "none",
      "dataSources": [],
      "dockerImageVersionId": 30775,
      "isGpuEnabled": false,
      "isInternetEnabled": true,
      "language": "python",
      "sourceType": "notebook"
    },
    "kernelspec": {
      "display_name": "Python 3",
      "language": "python",
      "name": "python3"
    },
    "language_info": {
      "codemirror_mode": {
        "name": "ipython",
        "version": 3
      },
      "file_extension": ".py",
      "mimetype": "text/x-python",
      "name": "python",
      "nbconvert_exporter": "python",
      "pygments_lexer": "ipython3",
      "version": "undefined.undefined.undefined"
    }
  },
  "nbformat": 4,
  "nbformat_minor": 0
}
