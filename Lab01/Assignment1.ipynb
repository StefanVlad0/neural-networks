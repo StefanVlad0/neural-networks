{
  "cells": [
    {
      "cell_type": "markdown",
      "metadata": {
        "id": "7-TKSWTVGuj9"
      },
      "source": [
        "<a target=\"_blank\" href=\"https://colab.research.google.com/github/Tensor-Reloaded/Neural-Networks-Template-2024/blob/main/Lab01/Assignment1.ipynb\">\n",
        "  <img src=\"https://colab.research.google.com/assets/colab-badge.svg\" alt=\"Open In Colab\"/>\n",
        "</a>"
      ]
    },
    {
      "cell_type": "markdown",
      "metadata": {
        "id": "_RK_PqHTGuj_"
      },
      "source": [
        "# **Assignment 1 (10 points)**"
      ]
    },
    {
      "cell_type": "markdown",
      "metadata": {
        "id": "ltCLbo5QGuj_",
        "vscode": {
          "languageId": "plaintext"
        }
      },
      "source": [
        "## **Solving a linear system in python**"
      ]
    },
    {
      "cell_type": "markdown",
      "metadata": {
        "id": "3hNsK_EaGukA",
        "vscode": {
          "languageId": "plaintext"
        }
      },
      "source": [
        "In this homework, you will familiarize yourself with key linear algebra con-\n",
        "cepts and Python programming by solving a system of linear equations. You\n",
        "will explore multiple methods for solving such systems, including Cramer’s rule\n",
        "and matrix inversion. By the end of this assignment, you will have a good un-\n",
        "derstanding of how to represent and manipulate matrices and vectors in Python."
      ]
    },
    {
      "cell_type": "markdown",
      "metadata": {
        "id": "UxO7PZ84GukA",
        "vscode": {
          "languageId": "plaintext"
        }
      },
      "source": [
        "We begin with the following system of 3 linear equations with 3 unknowns:\n",
        "$$ 2x + 3y - z = 5 $$\n",
        "$$ x - y + 4z = 6 $$\n",
        "$$ 3x + y + 2z = 7 $$\n",
        "\n",
        "This system can be vectorized in the following form:\n",
        "$$ A \\cdot X = B $$\n",
        "where:\n",
        "$$\n",
        "A = \\begin{bmatrix}\n",
        "2 & 3 & -1 \\\\\n",
        "1 & -1 & 4 \\\\\n",
        "3 & 1 & 2\n",
        "\\end{bmatrix}, \\quad\n",
        "X = \\begin{bmatrix}\n",
        "x \\\\\n",
        "y \\\\\n",
        "z\n",
        "\\end{bmatrix}, \\quad\n",
        "B = \\begin{bmatrix}\n",
        "5 \\\\\n",
        "6 \\\\\n",
        "7\n",
        "\\end{bmatrix}\n",
        "$$\n",
        "\n",
        "**Considerations**\n",
        "- do not use any linear algebra framework such as $numpy$\n",
        "- use python lists as data structures for matrices and vectors\n",
        "- experiment with other values for the coefficients and free terms"
      ]
    },
    {
      "cell_type": "markdown",
      "metadata": {
        "id": "aNcl7752GukA",
        "vscode": {
          "languageId": "plaintext"
        }
      },
      "source": [
        "### **1. Parsing the System of Equations (1 point)**"
      ]
    },
    {
      "cell_type": "markdown",
      "metadata": {
        "id": "eTZgjOXZGukA",
        "vscode": {
          "languageId": "plaintext"
        }
      },
      "source": [
        "The first task is to implement a Python script that reads a system of linear equations from a text file and parses it into a matrix $A$ and a vector $B$. You will use the input format described below to extract the coefficients for $A$ and $B$.\n",
        "\n",
        "**Input File Format**\n",
        "```text\n",
        "2x + 3y - z = 5\n",
        "x - y + 4z = 6\n",
        "3x + y + 2z = 7\n",
        "```\n",
        "\n",
        "Note that the coefficients are always in the order x, y and z and the terms are always space separated"
      ]
    },
    {
      "cell_type": "code",
      "execution_count": 13,
      "metadata": {
        "id": "yY2GrIMRGukB",
        "outputId": "3d2e5aaa-73db-40a7-a90f-4ee2b623a40a"
      },
      "outputs": [
        {
          "name": "stdout",
          "output_type": "stream",
          "text": [
            "A=[[2, 3, -1], [1, -1, 4], [3, 1, 2]] B=[5, 6, 7]\n"
          ]
        }
      ],
      "source": [
        "import pathlib\n",
        "\n",
        "def parse_equation(equation: str) -> tuple[list[float], float]:\n",
        "    left_side, right_side = equation.split('=')\n",
        "    left_side = left_side.replace(' ', '')\n",
        "    \n",
        "    coeffs = [0, 0, 0]\n",
        "    variables = ['x', 'y', 'z']\n",
        "    \n",
        "    current_coeff = ''\n",
        "    sign = 1  # by default positive\n",
        "    \n",
        "    for char in left_side:\n",
        "        if char in ['+', '-']:\n",
        "            if current_coeff:\n",
        "                coeffs[variables.index(variable)] = sign * (int(current_coeff) if current_coeff else 1)\n",
        "            current_coeff = ''\n",
        "            sign = 1 if char == '+' else -1\n",
        "        elif char in variables:\n",
        "            variable = char\n",
        "            coeffs[variables.index(variable)] = sign * (int(current_coeff) if current_coeff else 1)\n",
        "            current_coeff = ''\n",
        "        else:\n",
        "            current_coeff += char\n",
        "\n",
        "    result = int(right_side.strip())\n",
        "    \n",
        "    return coeffs, result\n",
        "\n",
        "def load_system(path: pathlib.Path) -> tuple[list[list[float]], list[float]]:\n",
        "    A = []\n",
        "    B = []\n",
        "\n",
        "    with path.open() as f:\n",
        "        for line in f:\n",
        "            coeffs, result = parse_equation(line.strip())\n",
        "            A.append(coeffs)\n",
        "            B.append(result)\n",
        "\n",
        "    return A, B\n",
        "\n",
        "A, B = load_system(pathlib.Path(\"system.txt\"))\n",
        "print(f\"{A=} {B=}\")"
      ]
    },
    {
      "cell_type": "markdown",
      "metadata": {
        "id": "Xi7wtKrVGukB",
        "vscode": {
          "languageId": "plaintext"
        }
      },
      "source": [
        "### **2. Matrix and Vector Operations (5 points)**"
      ]
    },
    {
      "cell_type": "markdown",
      "metadata": {
        "id": "D5Tj2eiTGukB",
        "vscode": {
          "languageId": "plaintext"
        }
      },
      "source": [
        "Once you have successfully parsed the matrix and vector, complete the following exercises to manipulate and understand basic matrix and vector operations. Write Python functions for each of these tasks:"
      ]
    },
    {
      "cell_type": "markdown",
      "metadata": {
        "id": "r5D2f22OGukB",
        "vscode": {
          "languageId": "plaintext"
        }
      },
      "source": [
        "#### 2.1. Determinant"
      ]
    },
    {
      "cell_type": "markdown",
      "metadata": {
        "id": "HhqGK5kSGukC",
        "vscode": {
          "languageId": "plaintext"
        }
      },
      "source": [
        "Write a function to compute the determinant of matrix $A$. Recall one of the formulae for the determinant of a $3x3$ matrix:\n",
        "$$ \\text{det}(A) = a_{11}(a_{22}a_{33} - a_{23}a_{32}) - a_{12}(a_{21}a_{33} - a_{23}a_{31}) + a_{13}(a_{21}a_{32} - a_{22}a_{31}) $$"
      ]
    },
    {
      "cell_type": "code",
      "execution_count": 24,
      "metadata": {
        "id": "PU42ZuYoGukC",
        "outputId": "8d506ae6-def4-4559-e49c-ea646b141429"
      },
      "outputs": [
        {
          "name": "stdout",
          "output_type": "stream",
          "text": [
            "[[2, 3, -1], [1, -1, 4], [3, 1, 2]]\n",
            "determinant(A)=14\n"
          ]
        }
      ],
      "source": [
        "print(A)\n",
        "def determinant(matrix: list[list[float]]) -> float:\n",
        "    if len(matrix) == 2:\n",
        "        return matrix[0][0] * matrix[1][1] - matrix[0][1] * matrix[1][0]\n",
        "    \n",
        "    a11, a12, a13 = matrix[0]\n",
        "    a21, a22, a23 = matrix[1]\n",
        "    a31, a32, a33 = matrix[2]\n",
        "    \n",
        "    det = (a11 * (a22 * a33 - a23 * a32)\n",
        "          - a12 * (a21 * a33 - a23 * a31)\n",
        "          + a13 * (a21 * a32 - a22 * a31))\n",
        "    \n",
        "    return det\n",
        "\n",
        "print(f\"{determinant(A)=}\")"
      ]
    },
    {
      "cell_type": "markdown",
      "metadata": {
        "id": "rrEPLB0JGukC"
      },
      "source": [
        "#### 2.2. Trace"
      ]
    },
    {
      "cell_type": "markdown",
      "metadata": {
        "id": "imIC3FwKGukC"
      },
      "source": [
        "Compute the sum of the elements along the main diagonal of matrix $A$. For a matrix $A$, this is:\n",
        "$$ \\text{Trace}(A) = a_{11} + a_{22} + a_{33} $$"
      ]
    },
    {
      "cell_type": "code",
      "execution_count": 17,
      "metadata": {
        "id": "WewUrd7-GukC",
        "outputId": "9cf36aba-b827-4c61-a20e-18c22b092a44"
      },
      "outputs": [
        {
          "name": "stdout",
          "output_type": "stream",
          "text": [
            "trace(A)=3\n"
          ]
        }
      ],
      "source": [
        "def trace(matrix: list[list[float]]) -> float:\n",
        "    a11, a12, a13 = matrix[0]\n",
        "    a21, a22, a23 = matrix[1]\n",
        "    a31, a32, a33 = matrix[2]\n",
        "\n",
        "    trace = a11 + a22 + a33\n",
        "\n",
        "    return trace\n",
        "\n",
        "print(f\"{trace(A)=}\")"
      ]
    },
    {
      "cell_type": "markdown",
      "metadata": {
        "id": "LW1KfWqkGukC"
      },
      "source": [
        "#### 2.3. Vector norm"
      ]
    },
    {
      "cell_type": "markdown",
      "metadata": {
        "id": "AJV2bOHyGukC"
      },
      "source": [
        "Compute the Euclidean norm of vector $B$, which is:\n",
        "$$ ||B|| = \\sqrt{b_1^2 + b_2^2 + b_3^2} $$"
      ]
    },
    {
      "cell_type": "code",
      "execution_count": 18,
      "metadata": {
        "id": "p0LnXjNcGukC",
        "outputId": "fb628d65-5275-4d0c-a7af-59ac9fe9b9f6"
      },
      "outputs": [
        {
          "name": "stdout",
          "output_type": "stream",
          "text": [
            "norm(B)=10.488088481701515\n"
          ]
        }
      ],
      "source": [
        "def norm(vector: list[float]) -> float:\n",
        "    sum_of_squares = sum(v ** 2 for v in vector)\n",
        "\n",
        "    return sum_of_squares ** 0.5\n",
        "\n",
        "print(f\"{norm(B)=}\")"
      ]
    },
    {
      "cell_type": "markdown",
      "metadata": {
        "id": "KRHm6Ku4GukD"
      },
      "source": [
        "#### 2.4. Transpose of matrix"
      ]
    },
    {
      "cell_type": "markdown",
      "metadata": {
        "id": "oSNppqK4GukD"
      },
      "source": [
        "Write a function to compute the transpose of matrix $A$. The transpose of a matrix $A$ is obtained by swapping its rows and columns.\n",
        "    "
      ]
    },
    {
      "cell_type": "code",
      "execution_count": 20,
      "metadata": {
        "id": "69tHPUYRGukD",
        "outputId": "99429098-20de-4a83-a251-d2dd2d8f2e14"
      },
      "outputs": [
        {
          "name": "stdout",
          "output_type": "stream",
          "text": [
            "transpose(A)=[[2, 1, 3], [3, -1, 1], [-1, 4, 2]]\n"
          ]
        }
      ],
      "source": [
        "def transpose(matrix: list[list[float]]) -> list[list[float]]:\n",
        "    rows = len(matrix)\n",
        "    cols = len(matrix[0])\n",
        "\n",
        "    transposed_matrix = [[0 for _ in range(rows)] for _ in range(cols)]\n",
        "\n",
        "    for i in range(rows):\n",
        "        for j in range(cols):\n",
        "            transposed_matrix[j][i] = matrix[i][j]\n",
        "    \n",
        "    return transposed_matrix\n",
        "\n",
        "print(f\"{transpose(A)=}\")"
      ]
    },
    {
      "cell_type": "markdown",
      "metadata": {
        "id": "hEOhxQ0HGukD"
      },
      "source": [
        "#### 2.5. Matrix-vector multiplication"
      ]
    },
    {
      "cell_type": "markdown",
      "metadata": {
        "id": "kOpvAgHeGukD"
      },
      "source": [
        "Write a function that multiplies matrix $A$ with vector $B$."
      ]
    },
    {
      "cell_type": "code",
      "execution_count": 21,
      "metadata": {
        "id": "HuneRDubGukD",
        "outputId": "37da9eeb-99a2-4835-f7c7-0efd4b3b2ffe"
      },
      "outputs": [
        {
          "name": "stdout",
          "output_type": "stream",
          "text": [
            "multiply(A, B)=[21, 27, 35]\n"
          ]
        }
      ],
      "source": [
        "def multiply(matrix: list[list[float]], vector: list[float]) -> list[float]:\n",
        "    result = [0 for _ in range(len(matrix))]\n",
        "\n",
        "    for i in range(len(matrix)):\n",
        "        for j in range(len(vector)):\n",
        "            result[i] += matrix[i][j] * vector[j]\n",
        "    \n",
        "    return result\n",
        "\n",
        "print(f\"{multiply(A, B)=}\")"
      ]
    },
    {
      "cell_type": "markdown",
      "metadata": {
        "id": "vNhamBXCGukD"
      },
      "source": [
        "### **3. Solving using Cramer's Rule (1 point)**"
      ]
    },
    {
      "cell_type": "markdown",
      "metadata": {
        "id": "lUKZ78OBGukD"
      },
      "source": [
        "Now that you have explored basic matrix operations, solve the system of linear equations using Cramer's rule.\n",
        "\n",
        "**Cramer's Rule:**\n",
        "\n",
        "Cramer's rule allows you to solve for each unknown $x$, $y$, and $z$ using determinants. For example:\n",
        "$$ x = \\frac{\\text{det}(A_x)}{\\text{det}(A)}, \\quad y = \\frac{\\text{det}(A_y)}{\\text{det}(A)}, \\quad z = \\frac{\\text{det}(A_z)}{\\text{det}(A)} $$\n",
        "where $A_x$, $A_y$, and $A_z$ are matrices formed by replacing the respective column of matrix $A$ with vector $B$."
      ]
    },
    {
      "cell_type": "code",
      "execution_count": 22,
      "metadata": {
        "id": "W_GICQi_GukD",
        "outputId": "15c8ee67-bea2-4a8e-bc9a-28e1667e4a89"
      },
      "outputs": [
        {
          "name": "stdout",
          "output_type": "stream",
          "text": [
            "solve_cramer(A, B)=[0.35714285714285715, 2.0714285714285716, 1.9285714285714286]\n"
          ]
        }
      ],
      "source": [
        "def replace_column(matrix: list[list[float]], vector: list[float], col_idx: int) -> list[list[float]]:\n",
        "    new_matrix = [row[:] for row in matrix]\n",
        "    for i in range(len(matrix)):\n",
        "        new_matrix[i][col_idx] = vector[i]\n",
        "    return new_matrix\n",
        "\n",
        "def solve_cramer(matrix: list[list[float]], vector: list[float]) -> list[float]:\n",
        "    det_A = determinant(matrix)\n",
        "    \n",
        "    if det_A == 0:\n",
        "        raise ValueError(\"The system don't have a single solution because the determinant is 0.\")\n",
        "    \n",
        "    solutions = []\n",
        "    for i in range(len(vector)):\n",
        "        modified_matrix = replace_column(matrix, vector, i)\n",
        "        det_Ai = determinant(modified_matrix)\n",
        "        solutions.append(det_Ai / det_A)\n",
        "    \n",
        "    return solutions\n",
        "\n",
        "print(f\"{solve_cramer(A, B)=}\")"
      ]
    },
    {
      "cell_type": "markdown",
      "metadata": {
        "id": "ZhNiGQL3GukE"
      },
      "source": [
        "### **4. Solving using Inversion (3 points)**"
      ]
    },
    {
      "cell_type": "markdown",
      "metadata": {
        "id": "E3aAaH_9GukE"
      },
      "source": [
        "Finally, solve the system by computing the inverse of matrix $A$ and multiplying it by vector $B$.\n",
        "$$ A \\cdot X = B \\rightarrow X = A^{-1} \\cdot B $$\n",
        "**Adjugate Method for Matrix Inversion:**\n",
        "\n",
        "To find the inverse of matrix $ A $, you can use the adjugate method:\n",
        "$$ A^{-1} = \\frac{1}{\\text{det}(A)} \\times \\text{adj}(A) $$\n",
        "where $\\text{adj}(A)$ is the adjugate (or adjoint) matrix, which is the transpose of the cofactor matrix of $ A $.\n",
        "\n",
        "**Cofactor Matrix:**\n",
        "\n",
        "The cofactor matrix is a matrix where each element is replaced by its cofactor. The cofactor of an element $a_{ij}$ is given by:\n",
        "$$ (-1)^{i+j} \\times \\text{det}(M_{ij}) $$\n",
        "where $M_{ij}$ is the minor of element $a_{ij}$, which is the matrix obtained by removing the $i$-th row and $j$-th column from matrix $A$."
      ]
    },
    {
      "cell_type": "code",
      "execution_count": 32,
      "metadata": {
        "id": "GOdYwScfGukE",
        "outputId": "5f56908a-8366-45f8-8e19-91979d6a7c9c"
      },
      "outputs": [
        {
          "name": "stdout",
          "output_type": "stream",
          "text": [
            "solve(A, B)=[0.35714285714285765, 2.071428571428571, 1.9285714285714288]\n"
          ]
        }
      ],
      "source": [
        "def minor(matrix: list[list[float]], i: int, j: int) -> list[list[float]]:\n",
        "    return [[matrix[x][y] for y in range(len(matrix)) if y != j] \n",
        "            for x in range(len(matrix)) if x != i]\n",
        "\n",
        "def cofactor(matrix: list[list[float]]) -> list[list[float]]:\n",
        "    cofactors = []\n",
        "    for i in range(len(matrix)):\n",
        "        row = []\n",
        "        for j in range(len(matrix)):\n",
        "            sign = (-1) ** (i + j)\n",
        "            minor_matrix = minor(matrix, i, j)\n",
        "            row.append(sign * determinant(minor_matrix))\n",
        "        cofactors.append(row)\n",
        "    return cofactors\n",
        "\n",
        "def adjoint(matrix: list[list[float]]) -> list[list[float]]:\n",
        "    return transpose(cofactor(matrix))\n",
        "\n",
        "def inverse(matrix: list[list[float]]) -> list[list[float]]:\n",
        "    det_A = determinant(matrix)\n",
        "    \n",
        "    if det_A == 0:\n",
        "        raise ValueError(\"The matrix don't have inverse because the determinant is 0.\")\n",
        "    \n",
        "    adj = adjoint(matrix)\n",
        "    \n",
        "    return [[adj[i][j] / det_A for j in range(len(matrix))] for i in range(len(matrix))]\n",
        "\n",
        "def solve(matrix: list[list[float]], vector: list[float]) -> list[float]:\n",
        "    inv_A = inverse(matrix)\n",
        "    return multiply(inv_A, vector)\n",
        "\n",
        "print(f\"{solve(A, B)=}\")"
      ]
    }
  ],
  "metadata": {
    "colab": {
      "provenance": [],
      "toc_visible": true
    },
    "kernelspec": {
      "display_name": "Python 3",
      "language": "python",
      "name": "python3"
    },
    "language_info": {
      "codemirror_mode": {
        "name": "ipython",
        "version": 3
      },
      "file_extension": ".py",
      "mimetype": "text/x-python",
      "name": "python",
      "nbconvert_exporter": "python",
      "pygments_lexer": "ipython3",
      "version": "3.13.0"
    }
  },
  "nbformat": 4,
  "nbformat_minor": 0
}
