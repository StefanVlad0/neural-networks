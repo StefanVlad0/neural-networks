{
  "cells": [
    {
      "cell_type": "markdown",
      "metadata": {
        "id": "_a3mzLZrN76-"
      },
      "source": [
        "# Python fundamentals"
      ]
    },
    {
      "cell_type": "markdown",
      "metadata": {
        "id": "gXqYekvjN76-"
      },
      "source": [
        "### Data types"
      ]
    },
    {
      "cell_type": "code",
      "execution_count": 2,
      "metadata": {
        "colab": {
          "base_uri": "https://localhost:8080/"
        },
        "execution": {
          "iopub.execute_input": "2024-10-02T11:44:03.951372Z",
          "iopub.status.busy": "2024-10-02T11:44:03.950493Z",
          "iopub.status.idle": "2024-10-02T11:44:03.983787Z",
          "shell.execute_reply": "2024-10-02T11:44:03.982322Z",
          "shell.execute_reply.started": "2024-10-02T11:44:03.951322Z"
        },
        "id": "3MhBylJEN76_",
        "outputId": "c419c283-d10e-411e-eebe-ba4135a6efaf",
        "trusted": true
      },
      "outputs": [
        {
          "name": "stdout",
          "output_type": "stream",
          "text": [
            "<class 'int'>\n"
          ]
        }
      ],
      "source": [
        "a = 5\n",
        "print(type(a))"
      ]
    },
    {
      "cell_type": "code",
      "execution_count": 3,
      "metadata": {
        "colab": {
          "base_uri": "https://localhost:8080/"
        },
        "execution": {
          "iopub.execute_input": "2024-10-02T11:44:36.10948Z",
          "iopub.status.busy": "2024-10-02T11:44:36.109006Z",
          "iopub.status.idle": "2024-10-02T11:44:36.117591Z",
          "shell.execute_reply": "2024-10-02T11:44:36.116327Z",
          "shell.execute_reply.started": "2024-10-02T11:44:36.109437Z"
        },
        "id": "wodi_gU9N76_",
        "outputId": "126bca12-4c64-43dc-9a25-fbaca73d0f3c",
        "trusted": true
      },
      "outputs": [
        {
          "name": "stdout",
          "output_type": "stream",
          "text": [
            "<class 'float'>\n"
          ]
        }
      ],
      "source": [
        "a = 5.0\n",
        "print(type(a))"
      ]
    },
    {
      "cell_type": "code",
      "execution_count": 4,
      "metadata": {
        "colab": {
          "base_uri": "https://localhost:8080/"
        },
        "execution": {
          "iopub.execute_input": "2024-10-02T11:45:05.271206Z",
          "iopub.status.busy": "2024-10-02T11:45:05.270755Z",
          "iopub.status.idle": "2024-10-02T11:45:05.279648Z",
          "shell.execute_reply": "2024-10-02T11:45:05.278196Z",
          "shell.execute_reply.started": "2024-10-02T11:45:05.27116Z"
        },
        "id": "tHznwFqRN77A",
        "outputId": "0756c44d-d0bb-4633-a763-502f8dba2b56",
        "trusted": true
      },
      "outputs": [
        {
          "name": "stdout",
          "output_type": "stream",
          "text": [
            "<class 'str'>\n"
          ]
        }
      ],
      "source": [
        "a = '5'\n",
        "print(type(a))"
      ]
    },
    {
      "cell_type": "code",
      "execution_count": 5,
      "metadata": {
        "colab": {
          "base_uri": "https://localhost:8080/"
        },
        "execution": {
          "iopub.execute_input": "2024-10-02T11:45:06.796862Z",
          "iopub.status.busy": "2024-10-02T11:45:06.795423Z",
          "iopub.status.idle": "2024-10-02T11:45:06.804179Z",
          "shell.execute_reply": "2024-10-02T11:45:06.802988Z",
          "shell.execute_reply.started": "2024-10-02T11:45:06.796802Z"
        },
        "id": "djbJqdr6N77A",
        "outputId": "dbbc12a5-3d3e-43c0-fd1b-8d7d633fcd16",
        "trusted": true
      },
      "outputs": [
        {
          "name": "stdout",
          "output_type": "stream",
          "text": [
            "<class 'bool'>\n"
          ]
        }
      ],
      "source": [
        "a = True\n",
        "print(type(a))"
      ]
    },
    {
      "cell_type": "markdown",
      "metadata": {
        "id": "QGqwl2wbN77A"
      },
      "source": [
        "## Containers"
      ]
    },
    {
      "cell_type": "code",
      "execution_count": 6,
      "metadata": {
        "colab": {
          "base_uri": "https://localhost:8080/"
        },
        "execution": {
          "iopub.execute_input": "2024-10-02T11:49:29.586322Z",
          "iopub.status.busy": "2024-10-02T11:49:29.58574Z",
          "iopub.status.idle": "2024-10-02T11:49:29.594511Z",
          "shell.execute_reply": "2024-10-02T11:49:29.592585Z",
          "shell.execute_reply.started": "2024-10-02T11:49:29.586194Z"
        },
        "id": "lZIuCa6RN77A",
        "outputId": "04899e4e-9d3a-43d7-bcfd-310e094f5043",
        "trusted": true
      },
      "outputs": [
        {
          "name": "stdout",
          "output_type": "stream",
          "text": [
            "[1, 2, 2, 3.0, '5']\n",
            "<class 'list'>\n"
          ]
        }
      ],
      "source": [
        "a_list = [1, 2, 2, 3.0, '5']\n",
        "print(a_list)\n",
        "print(type(a_list))"
      ]
    },
    {
      "cell_type": "code",
      "execution_count": 7,
      "metadata": {
        "colab": {
          "base_uri": "https://localhost:8080/"
        },
        "execution": {
          "iopub.execute_input": "2024-10-02T11:49:31.00734Z",
          "iopub.status.busy": "2024-10-02T11:49:31.006854Z",
          "iopub.status.idle": "2024-10-02T11:49:31.015648Z",
          "shell.execute_reply": "2024-10-02T11:49:31.014282Z",
          "shell.execute_reply.started": "2024-10-02T11:49:31.007296Z"
        },
        "id": "a0KAR2ExN77B",
        "outputId": "e0499764-c938-4094-c78e-5f230bf96fd5",
        "trusted": true
      },
      "outputs": [
        {
          "name": "stdout",
          "output_type": "stream",
          "text": [
            "{'5', 1, 2, 3.0}\n",
            "<class 'set'>\n",
            "{1, 2, 3, 4}\n"
          ]
        }
      ],
      "source": [
        "a_set = set(a_list)\n",
        "print(a_set)\n",
        "print(type(a_set))\n",
        "a_set = {1, 2, 3, 4}\n",
        "print(a_set)"
      ]
    },
    {
      "cell_type": "code",
      "execution_count": 8,
      "metadata": {
        "_cell_guid": "b1076dfc-b9ad-4769-8c92-a6c4dae69d19",
        "_uuid": "8f2839f25d086af736a60e9eeb907d3b93b6e0e5",
        "colab": {
          "base_uri": "https://localhost:8080/"
        },
        "execution": {
          "iopub.execute_input": "2024-10-02T11:50:25.928643Z",
          "iopub.status.busy": "2024-10-02T11:50:25.927682Z",
          "iopub.status.idle": "2024-10-02T11:50:25.936764Z",
          "shell.execute_reply": "2024-10-02T11:50:25.934781Z",
          "shell.execute_reply.started": "2024-10-02T11:50:25.928589Z"
        },
        "id": "Dmtitx5PN77B",
        "outputId": "258ea10d-b517-4a1b-c310-c205e1d2bd49",
        "trusted": true
      },
      "outputs": [
        {
          "name": "stdout",
          "output_type": "stream",
          "text": [
            "Keys:\t [1, 'doi', 3.0]\n",
            "Values:\t ['unu', 2, {1, 2, 3, 4}]\n",
            "{1: 'unu', 'doi': 2, 3.0: {1, 2, 3, 4}}\n",
            "<class 'dict'>\n"
          ]
        }
      ],
      "source": [
        "a_dict = {\n",
        "    1: 'unu',\n",
        "    'doi': 2,\n",
        "    3.0: a_set\n",
        "}\n",
        "print(\"Keys:\\t\", list(a_dict.keys()))\n",
        "print(\"Values:\\t\", list(a_dict.values()))\n",
        "print(a_dict)\n",
        "print(type(a_dict))"
      ]
    },
    {
      "cell_type": "markdown",
      "metadata": {
        "id": "EE6My2IjN77B"
      },
      "source": [
        "## Functions"
      ]
    },
    {
      "cell_type": "code",
      "execution_count": 9,
      "metadata": {
        "colab": {
          "base_uri": "https://localhost:8080/"
        },
        "execution": {
          "iopub.execute_input": "2024-10-02T11:51:31.894016Z",
          "iopub.status.busy": "2024-10-02T11:51:31.893551Z",
          "iopub.status.idle": "2024-10-02T11:51:31.904305Z",
          "shell.execute_reply": "2024-10-02T11:51:31.902815Z",
          "shell.execute_reply.started": "2024-10-02T11:51:31.893971Z"
        },
        "id": "nX8fadHKN77B",
        "outputId": "056ddaff-0d7b-4032-dd6d-de1da53b3b26",
        "trusted": true
      },
      "outputs": [
        {
          "data": {
            "text/plain": [
              "11"
            ]
          },
          "execution_count": 9,
          "metadata": {},
          "output_type": "execute_result"
        }
      ],
      "source": [
        "def add_two_values(a, b):\n",
        "    return a + b\n",
        "\n",
        "add_two_values(5, 6)"
      ]
    },
    {
      "cell_type": "code",
      "execution_count": 10,
      "metadata": {
        "colab": {
          "base_uri": "https://localhost:8080/"
        },
        "execution": {
          "iopub.execute_input": "2024-10-02T11:52:16.545022Z",
          "iopub.status.busy": "2024-10-02T11:52:16.544522Z",
          "iopub.status.idle": "2024-10-02T11:52:16.554614Z",
          "shell.execute_reply": "2024-10-02T11:52:16.553091Z",
          "shell.execute_reply.started": "2024-10-02T11:52:16.544976Z"
        },
        "id": "ZsQjTrEAN77B",
        "outputId": "d6865f62-7636-4878-996a-95305ee81623",
        "trusted": true
      },
      "outputs": [
        {
          "data": {
            "text/plain": [
              "20.0"
            ]
          },
          "execution_count": 10,
          "metadata": {},
          "output_type": "execute_result"
        }
      ],
      "source": [
        "def multiply(a: float, b: float) -> float:\n",
        "    return a * b\n",
        "\n",
        "multiply(4.0, 5.0)"
      ]
    },
    {
      "cell_type": "code",
      "execution_count": 11,
      "metadata": {
        "colab": {
          "base_uri": "https://localhost:8080/",
          "height": 35
        },
        "execution": {
          "iopub.execute_input": "2024-10-02T11:52:50.76403Z",
          "iopub.status.busy": "2024-10-02T11:52:50.763543Z",
          "iopub.status.idle": "2024-10-02T11:52:50.773893Z",
          "shell.execute_reply": "2024-10-02T11:52:50.772157Z",
          "shell.execute_reply.started": "2024-10-02T11:52:50.763985Z"
        },
        "id": "7Nw6RLGEN77B",
        "outputId": "c3056dc5-d844-447a-e7f3-5bc2bd505b7d",
        "trusted": true
      },
      "outputs": [
        {
          "data": {
            "text/plain": [
              "'ABAB'"
            ]
          },
          "execution_count": 11,
          "metadata": {},
          "output_type": "execute_result"
        }
      ],
      "source": [
        "multiply(\"AB\", 2)"
      ]
    },
    {
      "cell_type": "markdown",
      "metadata": {
        "id": "0s-6p0HkN77B"
      },
      "source": [
        "# Numpy"
      ]
    },
    {
      "cell_type": "markdown",
      "metadata": {
        "id": "CCnrJDOSN77C"
      },
      "source": [
        "Check: https://numpy.org/doc/stable/user/absolute_beginners.html"
      ]
    },
    {
      "cell_type": "markdown",
      "metadata": {
        "id": "GFKeqvW9N77C"
      },
      "source": [
        "### Installing 3rd party libraries"
      ]
    },
    {
      "cell_type": "code",
      "execution_count": 12,
      "metadata": {
        "colab": {
          "base_uri": "https://localhost:8080/"
        },
        "execution": {
          "iopub.execute_input": "2024-10-02T12:03:47.809536Z",
          "iopub.status.busy": "2024-10-02T12:03:47.809067Z",
          "iopub.status.idle": "2024-10-02T12:04:02.676853Z",
          "shell.execute_reply": "2024-10-02T12:04:02.675064Z",
          "shell.execute_reply.started": "2024-10-02T12:03:47.809488Z"
        },
        "id": "Do-AheAqN77C",
        "outputId": "8031f61d-3ec7-4d08-b4a8-62e52760ebe5",
        "trusted": true
      },
      "outputs": [
        {
          "name": "stdout",
          "output_type": "stream",
          "text": [
            "Collecting numpy\n",
            "  Downloading numpy-2.1.2-cp313-cp313-win_amd64.whl.metadata (59 kB)\n",
            "Downloading numpy-2.1.2-cp313-cp313-win_amd64.whl (12.6 MB)\n",
            "   ---------------------------------------- 0.0/12.6 MB ? eta -:--:--\n",
            "   --- ------------------------------------ 1.0/12.6 MB 6.9 MB/s eta 0:00:02\n",
            "   -------- ------------------------------- 2.6/12.6 MB 7.1 MB/s eta 0:00:02\n",
            "   ------------ --------------------------- 3.9/12.6 MB 7.2 MB/s eta 0:00:02\n",
            "   ----------------- ---------------------- 5.5/12.6 MB 7.2 MB/s eta 0:00:01\n",
            "   ----------------------- ---------------- 7.3/12.6 MB 7.4 MB/s eta 0:00:01\n",
            "   ---------------------------- ----------- 8.9/12.6 MB 7.4 MB/s eta 0:00:01\n",
            "   --------------------------------- ------ 10.5/12.6 MB 7.4 MB/s eta 0:00:01\n",
            "   -------------------------------------- - 12.1/12.6 MB 7.6 MB/s eta 0:00:01\n",
            "   ---------------------------------------- 12.6/12.6 MB 7.5 MB/s eta 0:00:00\n",
            "Installing collected packages: numpy\n",
            "Successfully installed numpy-2.1.2\n",
            "Note: you may need to restart the kernel to use updated packages.\n"
          ]
        }
      ],
      "source": [
        "%pip install numpy"
      ]
    },
    {
      "cell_type": "code",
      "execution_count": 13,
      "metadata": {
        "colab": {
          "base_uri": "https://localhost:8080/"
        },
        "execution": {
          "iopub.execute_input": "2024-10-02T12:04:04.699355Z",
          "iopub.status.busy": "2024-10-02T12:04:04.698732Z",
          "iopub.status.idle": "2024-10-02T12:04:19.723462Z",
          "shell.execute_reply": "2024-10-02T12:04:19.721813Z",
          "shell.execute_reply.started": "2024-10-02T12:04:04.699297Z"
        },
        "id": "4p6EbtLjN77C",
        "outputId": "cb194a4d-7254-4ea1-e445-f9ea2936b94c",
        "trusted": true
      },
      "outputs": [
        {
          "name": "stdout",
          "output_type": "stream",
          "text": [
            "Collecting timed-decorator\n",
            "  Downloading timed_decorator-1.5.2-py3-none-any.whl.metadata (18 kB)\n",
            "Downloading timed_decorator-1.5.2-py3-none-any.whl (12 kB)\n",
            "Installing collected packages: timed-decorator\n",
            "Successfully installed timed-decorator-1.5.2\n",
            "Note: you may need to restart the kernel to use updated packages.\n"
          ]
        }
      ],
      "source": [
        "%pip install timed-decorator"
      ]
    },
    {
      "cell_type": "code",
      "execution_count": 14,
      "metadata": {
        "execution": {
          "iopub.execute_input": "2024-10-02T12:19:17.82417Z",
          "iopub.status.busy": "2024-10-02T12:19:17.823585Z",
          "iopub.status.idle": "2024-10-02T12:19:17.830611Z",
          "shell.execute_reply": "2024-10-02T12:19:17.829095Z",
          "shell.execute_reply.started": "2024-10-02T12:19:17.824114Z"
        },
        "id": "1fJntYrkN77C",
        "trusted": true
      },
      "outputs": [],
      "source": [
        "import numpy as np\n",
        "from math import sqrt\n",
        "from timed_decorator.simple_timed import timed"
      ]
    },
    {
      "cell_type": "code",
      "execution_count": 15,
      "metadata": {
        "colab": {
          "base_uri": "https://localhost:8080/"
        },
        "execution": {
          "iopub.execute_input": "2024-10-02T12:08:13.212593Z",
          "iopub.status.busy": "2024-10-02T12:08:13.211484Z",
          "iopub.status.idle": "2024-10-02T12:08:13.223296Z",
          "shell.execute_reply": "2024-10-02T12:08:13.221925Z",
          "shell.execute_reply.started": "2024-10-02T12:08:13.212525Z"
        },
        "id": "6tJVb2RVN77C",
        "outputId": "e8d76a18-5a5a-4e5b-f870-c3ddf83f8212",
        "trusted": true
      },
      "outputs": [
        {
          "data": {
            "text/plain": [
              "array([-4.53178086,  0.14633282,  0.20315039,  5.31636987, -3.57485897,\n",
              "        1.40372454, -0.67195875, -5.27090279, -3.51653732, -3.97795741,\n",
              "        4.98627083, -0.62810916,  2.4429018 ,  4.30425418,  2.79766179,\n",
              "       -0.90006995, -5.23713257, -4.86737752, -5.19395223, -1.25355008,\n",
              "       -3.39220802, -1.7173688 , -3.63902186,  3.4491246 , -1.33074818,\n",
              "        3.86027475,  1.65390252, -0.43550791, -5.47478867, -1.08694294,\n",
              "       -0.4557651 ,  2.29422498, -1.40270937, -4.5684643 , -1.86120718,\n",
              "        2.78338833,  4.25948188,  5.37100251,  2.77726898, -4.65643259,\n",
              "        4.1740738 , -1.75150144, -0.83458639, -3.05908082,  2.75309715,\n",
              "       -3.54149538,  3.32501989, -1.13590795, -2.8628665 ,  2.87426898])"
            ]
          },
          "execution_count": 15,
          "metadata": {},
          "output_type": "execute_result"
        }
      ],
      "source": [
        "x = np.random.uniform(low=-5.5, high=5.5, size=(50,))\n",
        "x"
      ]
    },
    {
      "cell_type": "code",
      "execution_count": 16,
      "metadata": {
        "colab": {
          "base_uri": "https://localhost:8080/"
        },
        "execution": {
          "iopub.execute_input": "2024-10-02T12:08:20.885553Z",
          "iopub.status.busy": "2024-10-02T12:08:20.88504Z",
          "iopub.status.idle": "2024-10-02T12:08:20.895173Z",
          "shell.execute_reply": "2024-10-02T12:08:20.894109Z",
          "shell.execute_reply.started": "2024-10-02T12:08:20.885509Z"
        },
        "id": "A1lC4YMON77C",
        "outputId": "2d6be9f9-02c7-41ce-b85e-bbe2316bd3b9",
        "trusted": true
      },
      "outputs": [
        {
          "data": {
            "text/plain": [
              "array([False,  True,  True,  True, False,  True, False, False, False,\n",
              "       False,  True, False,  True,  True,  True, False, False, False,\n",
              "       False, False, False, False, False,  True, False,  True,  True,\n",
              "       False, False, False, False,  True, False, False, False,  True,\n",
              "        True,  True,  True, False,  True, False, False, False,  True,\n",
              "       False,  True, False, False,  True])"
            ]
          },
          "execution_count": 16,
          "metadata": {},
          "output_type": "execute_result"
        }
      ],
      "source": [
        "x > 0"
      ]
    },
    {
      "cell_type": "code",
      "execution_count": 17,
      "metadata": {
        "colab": {
          "base_uri": "https://localhost:8080/"
        },
        "execution": {
          "iopub.execute_input": "2024-10-02T12:08:31.800889Z",
          "iopub.status.busy": "2024-10-02T12:08:31.800418Z",
          "iopub.status.idle": "2024-10-02T12:08:31.81006Z",
          "shell.execute_reply": "2024-10-02T12:08:31.80875Z",
          "shell.execute_reply.started": "2024-10-02T12:08:31.800844Z"
        },
        "id": "cSi7wI_jN77C",
        "outputId": "ef7f51d5-3df0-4f6d-e51f-51cca3c2964e",
        "trusted": true
      },
      "outputs": [
        {
          "data": {
            "text/plain": [
              "array([0.14633282, 0.20315039, 5.31636987, 1.40372454, 4.98627083,\n",
              "       2.4429018 , 4.30425418, 2.79766179, 3.4491246 , 3.86027475,\n",
              "       1.65390252, 2.29422498, 2.78338833, 4.25948188, 5.37100251,\n",
              "       2.77726898, 4.1740738 , 2.75309715, 3.32501989, 2.87426898])"
            ]
          },
          "execution_count": 17,
          "metadata": {},
          "output_type": "execute_result"
        }
      ],
      "source": [
        "x[x > 0]"
      ]
    },
    {
      "cell_type": "code",
      "execution_count": 19,
      "metadata": {
        "colab": {
          "base_uri": "https://localhost:8080/"
        },
        "execution": {
          "iopub.execute_input": "2024-10-02T12:08:47.364834Z",
          "iopub.status.busy": "2024-10-02T12:08:47.36438Z",
          "iopub.status.idle": "2024-10-02T12:08:47.374292Z",
          "shell.execute_reply": "2024-10-02T12:08:47.372842Z",
          "shell.execute_reply.started": "2024-10-02T12:08:47.364789Z"
        },
        "id": "9WcCYeb4N77C",
        "outputId": "e7788b5f-f4f7-445c-e343-344331d6bc8c",
        "trusted": true
      },
      "outputs": [
        {
          "data": {
            "text/plain": [
              "[np.float64(-4.531780861214501),\n",
              " np.float64(0.14633281683842636),\n",
              " np.float64(0.20315038853590206),\n",
              " np.float64(5.316369868567614),\n",
              " np.float64(-3.5748589715955537),\n",
              " np.float64(1.4037245350620555),\n",
              " np.float64(-0.6719587542442103),\n",
              " np.float64(-5.27090278690007),\n",
              " np.float64(-3.5165373210422444),\n",
              " np.float64(-3.9779574112099),\n",
              " np.float64(4.986270825751154),\n",
              " np.float64(-0.6281091584676934),\n",
              " np.float64(2.4429018001320193),\n",
              " np.float64(4.304254182383499),\n",
              " np.float64(2.7976617868711458),\n",
              " np.float64(-0.9000699546805357),\n",
              " np.float64(-5.237132565798531),\n",
              " np.float64(-4.867377522988171),\n",
              " np.float64(-5.193952229885799),\n",
              " np.float64(-1.253550082638621),\n",
              " np.float64(-3.392208022569366),\n",
              " np.float64(-1.7173687961597048),\n",
              " np.float64(-3.6390218614250047),\n",
              " np.float64(3.4491245966386668),\n",
              " np.float64(-1.3307481803055223),\n",
              " np.float64(3.860274752451419),\n",
              " np.float64(1.6539025209034026),\n",
              " np.float64(-0.43550791112918663),\n",
              " np.float64(-5.474788670471965),\n",
              " np.float64(-1.0869429443249157),\n",
              " np.float64(-0.45576509610810767),\n",
              " np.float64(2.294224983081607),\n",
              " np.float64(-1.4027093736009544),\n",
              " np.float64(-4.56846430200613),\n",
              " np.float64(-1.861207178469325),\n",
              " np.float64(2.7833883338964895),\n",
              " np.float64(4.259481884171498),\n",
              " np.float64(5.371002507175756),\n",
              " np.float64(2.777268984969977),\n",
              " np.float64(-4.656432594471377),\n",
              " np.float64(4.174073804562797),\n",
              " np.float64(-1.751501444798885),\n",
              " np.float64(-0.834586393175127),\n",
              " np.float64(-3.0590808229955027),\n",
              " np.float64(2.753097153693748),\n",
              " np.float64(-3.5414953767803055),\n",
              " np.float64(3.325019887247029),\n",
              " np.float64(-1.1359079481675574),\n",
              " np.float64(-2.862866495606934),\n",
              " np.float64(2.8742689785788986)]"
            ]
          },
          "execution_count": 19,
          "metadata": {},
          "output_type": "execute_result"
        }
      ],
      "source": [
        "list(x)"
      ]
    },
    {
      "cell_type": "markdown",
      "metadata": {
        "id": "rLM-vfVDN77C"
      },
      "source": [
        "## Comparing numpy arrays to python lists"
      ]
    },
    {
      "cell_type": "code",
      "execution_count": 21,
      "metadata": {
        "colab": {
          "base_uri": "https://localhost:8080/"
        },
        "execution": {
          "iopub.execute_input": "2024-10-02T12:23:10.974691Z",
          "iopub.status.busy": "2024-10-02T12:23:10.974197Z",
          "iopub.status.idle": "2024-10-02T12:23:11.440227Z",
          "shell.execute_reply": "2024-10-02T12:23:11.43898Z",
          "shell.execute_reply.started": "2024-10-02T12:23:10.974645Z"
        },
        "id": "rQIw6SrzN77C",
        "outputId": "177255e1-765f-4e9b-d7bd-8dde1ad96e7f",
        "trusted": true
      },
      "outputs": [
        {
          "name": "stdout",
          "output_type": "stream",
          "text": [
            "normalize_np(ndarray(50000,)) -> total time: 0.000562400s\n",
            "normalize_py(list(float64)[50000]) -> total time: 0.008573700s\n"
          ]
        }
      ],
      "source": [
        "@timed(show_args=True, use_seconds=True)\n",
        "def normalize_np(x: np.ndarray) -> np.ndarray:\n",
        "    mean = np.mean(x)\n",
        "    std = np.std(x)\n",
        "    return (x - mean) / std\n",
        "\n",
        "@timed(show_args=True, use_seconds=True)\n",
        "def normalize_py(x: list) -> list:\n",
        "    mean = sum(x) / len(x)\n",
        "    var = sum([(i - mean) ** 2 for i in x]) / len(x)\n",
        "    std = sqrt(var)\n",
        "    return [(i - mean) / std for i in x]\n",
        "\n",
        "x = np.random.uniform(low=-5.5, high=5.5, size=(50000,)).astype(np.float64)\n",
        "y = list(x)\n",
        "normalized_x = normalize_np(x)\n",
        "normalized_y = normalize_py(y)\n",
        "assert np.allclose(normalized_x, normalized_y)"
      ]
    },
    {
      "cell_type": "markdown",
      "metadata": {
        "id": "SsAyhEIFN77C"
      },
      "source": [
        "#### Python is slower than numpy in general"
      ]
    },
    {
      "cell_type": "code",
      "execution_count": 22,
      "metadata": {
        "colab": {
          "base_uri": "https://localhost:8080/"
        },
        "execution": {
          "iopub.execute_input": "2024-10-02T12:25:52.182556Z",
          "iopub.status.busy": "2024-10-02T12:25:52.182079Z",
          "iopub.status.idle": "2024-10-02T12:25:53.975332Z",
          "shell.execute_reply": "2024-10-02T12:25:53.974039Z",
          "shell.execute_reply.started": "2024-10-02T12:25:52.182507Z"
        },
        "id": "lnHnoOpIN77C",
        "outputId": "e547c993-2cde-460a-d162-cb3aa0e34c49",
        "trusted": true
      },
      "outputs": [
        {
          "name": "stdout",
          "output_type": "stream",
          "text": [
            "6.72 μs ± 106 ns per loop (mean ± std. dev. of 7 runs, 100,000 loops each)\n"
          ]
        }
      ],
      "source": [
        "%%timeit\n",
        "\n",
        "np.min(x)"
      ]
    },
    {
      "cell_type": "code",
      "execution_count": 23,
      "metadata": {
        "colab": {
          "base_uri": "https://localhost:8080/"
        },
        "execution": {
          "iopub.execute_input": "2024-10-02T12:25:57.128432Z",
          "iopub.status.busy": "2024-10-02T12:25:57.127966Z",
          "iopub.status.idle": "2024-10-02T12:25:59.452513Z",
          "shell.execute_reply": "2024-10-02T12:25:59.451406Z",
          "shell.execute_reply.started": "2024-10-02T12:25:57.128388Z"
        },
        "id": "SX9aZKnFN77C",
        "outputId": "bef37356-5bfe-46f2-f5df-bc1097495b70",
        "trusted": true
      },
      "outputs": [
        {
          "name": "stdout",
          "output_type": "stream",
          "text": [
            "450 μs ± 4.46 μs per loop (mean ± std. dev. of 7 runs, 1,000 loops each)\n"
          ]
        }
      ],
      "source": [
        "%%timeit\n",
        "\n",
        "min(y)"
      ]
    },
    {
      "cell_type": "code",
      "execution_count": 24,
      "metadata": {
        "execution": {
          "iopub.execute_input": "2024-10-02T12:26:42.992272Z",
          "iopub.status.busy": "2024-10-02T12:26:42.991777Z",
          "iopub.status.idle": "2024-10-02T12:26:42.998492Z",
          "shell.execute_reply": "2024-10-02T12:26:42.997284Z",
          "shell.execute_reply.started": "2024-10-02T12:26:42.992226Z"
        },
        "id": "ionViVvwN77C",
        "trusted": true
      },
      "outputs": [],
      "source": [
        "a = np.random.uniform(low=-5.5, high=5.5, size=(50,)).astype(np.float64)\n",
        "b = list(a)\n"
      ]
    },
    {
      "cell_type": "code",
      "execution_count": 25,
      "metadata": {
        "colab": {
          "base_uri": "https://localhost:8080/"
        },
        "execution": {
          "iopub.execute_input": "2024-10-02T12:26:43.457362Z",
          "iopub.status.busy": "2024-10-02T12:26:43.456859Z",
          "iopub.status.idle": "2024-10-02T12:26:48.16646Z",
          "shell.execute_reply": "2024-10-02T12:26:48.165185Z",
          "shell.execute_reply.started": "2024-10-02T12:26:43.457317Z"
        },
        "id": "d0-CmmEnN77C",
        "outputId": "f2317137-6a65-4627-b837-b47c5256fcdd",
        "trusted": true
      },
      "outputs": [
        {
          "name": "stdout",
          "output_type": "stream",
          "text": [
            "1.42 μs ± 10.5 ns per loop (mean ± std. dev. of 7 runs, 1,000,000 loops each)\n"
          ]
        }
      ],
      "source": [
        "%%timeit\n",
        "\n",
        "np.min(a)"
      ]
    },
    {
      "cell_type": "code",
      "execution_count": 26,
      "metadata": {
        "colab": {
          "base_uri": "https://localhost:8080/"
        },
        "execution": {
          "iopub.execute_input": "2024-10-02T12:26:48.168601Z",
          "iopub.status.busy": "2024-10-02T12:26:48.168224Z",
          "iopub.status.idle": "2024-10-02T12:26:50.625046Z",
          "shell.execute_reply": "2024-10-02T12:26:50.62365Z",
          "shell.execute_reply.started": "2024-10-02T12:26:48.168545Z"
        },
        "id": "qwAy0mmKN77C",
        "outputId": "2ea05bbc-c747-45a8-d779-554abed80f66",
        "trusted": true
      },
      "outputs": [
        {
          "name": "stdout",
          "output_type": "stream",
          "text": [
            "497 ns ± 3.26 ns per loop (mean ± std. dev. of 7 runs, 1,000,000 loops each)\n"
          ]
        }
      ],
      "source": [
        "%%timeit\n",
        "\n",
        "min(b)"
      ]
    },
    {
      "cell_type": "markdown",
      "metadata": {
        "id": "blcMfOKaN77D"
      },
      "source": [
        "## Inplace operations\n",
        "Use them when you can safely modify the input"
      ]
    },
    {
      "cell_type": "code",
      "execution_count": 27,
      "metadata": {
        "execution": {
          "iopub.execute_input": "2024-10-02T12:31:42.026297Z",
          "iopub.status.busy": "2024-10-02T12:31:42.025848Z",
          "iopub.status.idle": "2024-10-02T12:31:42.032887Z",
          "shell.execute_reply": "2024-10-02T12:31:42.031665Z",
          "shell.execute_reply.started": "2024-10-02T12:31:42.026254Z"
        },
        "id": "_HxkpvD7N77D",
        "trusted": true
      },
      "outputs": [],
      "source": [
        "@timed(show_args=True, use_seconds=True)\n",
        "def normalize_np_(x: np.ndarray) -> np.ndarray:\n",
        "    mean = np.mean(x)\n",
        "    std = np.std(x)\n",
        "    x -= mean\n",
        "    x /= std\n",
        "    return x"
      ]
    },
    {
      "cell_type": "code",
      "execution_count": null,
      "metadata": {
        "colab": {
          "base_uri": "https://localhost:8080/"
        },
        "execution": {
          "iopub.execute_input": "2024-10-02T12:31:42.184088Z",
          "iopub.status.busy": "2024-10-02T12:31:42.183658Z",
          "iopub.status.idle": "2024-10-02T12:31:42.643647Z",
          "shell.execute_reply": "2024-10-02T12:31:42.642302Z",
          "shell.execute_reply.started": "2024-10-02T12:31:42.184046Z"
        },
        "id": "fmN8W0qGN77D",
        "outputId": "fad7ea35-d4bb-4f1f-86a7-0bd95adcd1dc",
        "trusted": true
      },
      "outputs": [
        {
          "name": "stdout",
          "output_type": "stream",
          "text": [
            "normalize_np(ndarray(1000, 20000)) -> total time: 0.189661978s\n",
            "normalize_np_(ndarray(1000, 20000)) -> total time: 0.139641280s\n"
          ]
        }
      ],
      "source": [
        "x = np.random.rand(1000, 20000)\n",
        "\n",
        "# This creates a copy\n",
        "y = normalize_np(x)\n",
        "assert not np.allclose(x, y)\n",
        "\n",
        "# Inplace operations modify the original array! But they are faster and use less memory.\n",
        "z = normalize_np_(x)\n",
        "assert np.array_equal(x, z)"
      ]
    }
  ],
  "metadata": {
    "colab": {
      "name": "RN-2024-Lab01",
      "provenance": []
    },
    "kaggle": {
      "accelerator": "none",
      "dataSources": [],
      "dockerImageVersionId": 30775,
      "isGpuEnabled": false,
      "isInternetEnabled": true,
      "language": "python",
      "sourceType": "notebook"
    },
    "kernelspec": {
      "display_name": "Python 3",
      "language": "python",
      "name": "python3"
    },
    "language_info": {
      "codemirror_mode": {
        "name": "ipython",
        "version": 3
      },
      "file_extension": ".py",
      "mimetype": "text/x-python",
      "name": "python",
      "nbconvert_exporter": "python",
      "pygments_lexer": "ipython3",
      "version": "3.13.0"
    }
  },
  "nbformat": 4,
  "nbformat_minor": 0
}
